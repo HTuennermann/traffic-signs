{
 "cells": [
  {
   "cell_type": "markdown",
   "metadata": {},
   "source": [
    "# Self-Driving Car Engineer Nanodegree\n",
    "\n",
    "## Deep Learning\n",
    "\n",
    "## Project: Build a Traffic Sign Recognition Classifier\n",
    "\n",
    "In this notebook, a template is provided for you to implement your functionality in stages which is required to successfully complete this project. If additional code is required that cannot be included in the notebook, be sure that the Python code is successfully imported and included in your submission, if necessary. Sections that begin with **'Implementation'** in the header indicate where you should begin your implementation for your project. Note that some sections of implementation are optional, and will be marked with **'Optional'** in the header.\n",
    "\n",
    "In addition to implementing code, there will be questions that you must answer which relate to the project and your implementation. Each section where you will answer a question is preceded by a **'Question'** header. Carefully read each question and provide thorough answers in the following text boxes that begin with **'Answer:'**. Your project submission will be evaluated based on your answers to each of the questions and the implementation you provide.\n",
    "\n",
    ">**Note:** Code and Markdown cells can be executed using the **Shift + Enter** keyboard shortcut. In addition, Markdown cells can be edited by typically double-clicking the cell to enter edit mode."
   ]
  },
  {
   "cell_type": "markdown",
   "metadata": {},
   "source": [
    "---\n",
    "\n",
    "## Step 1: Dataset Exploration\n",
    "\n",
    "Visualize the German Traffic Signs Dataset. This is open ended, some suggestions include: plotting traffic signs images, plotting the count of each sign, etc. Be creative!\n",
    "\n",
    "\n",
    "The pickled data is a dictionary with 4 key/value pairs:\n",
    "\n",
    "- features -> the images pixel values, (width, height, channels)\n",
    "- labels -> the label of the traffic sign\n",
    "- sizes -> the original width and height of the image, (width, height)\n",
    "- coords -> coordinates of a bounding box around the sign in the image, (x1, y1, x2, y2)"
   ]
  },
  {
   "cell_type": "code",
   "execution_count": 1,
   "metadata": {
    "collapsed": false
   },
   "outputs": [
    {
     "name": "stdout",
     "output_type": "stream",
     "text": [
      "Populating the interactive namespace from numpy and matplotlib\n"
     ]
    }
   ],
   "source": [
    "# Load pickled data\n",
    "import numpy as np\n",
    "import pickle\n",
    "import tqdm\n",
    "import skimage.transform\n",
    "from sklearn.preprocessing import LabelBinarizer\n",
    "%pylab inline\n",
    "\n",
    "# TODO: fill this in based on where you saved the training and testing data\n",
    "training_file = './../Downloads/train.p'\n",
    "testing_file = './../Downloads/test.p'\n",
    "\n",
    "with open(training_file, mode='rb') as f:\n",
    "    train = pickle.load(f)\n",
    "with open(testing_file, mode='rb') as f:\n",
    "    test = pickle.load(f)\n",
    "    \n",
    "X_train, y_train = train['features'], train['labels']\n",
    "X_test, y_test = test['features'], test['labels']\n",
    "\n",
    "\n",
    "\n",
    "from skimage.exposure import equalize_hist\n",
    "\n",
    "X_test = equalize_hist(X_test) #- 0.5\n",
    "X_train = equalize_hist(X_train) #- 0.5\n",
    "\n",
    "binarizer = LabelBinarizer().fit(y_train)\n",
    "y_train = binarizer.transform(y_train).astype(np.float32)\n",
    "y_test = binarizer.transform(y_test).astype(np.float32)"
   ]
  },
  {
   "cell_type": "code",
   "execution_count": 2,
   "metadata": {
    "collapsed": false
   },
   "outputs": [
    {
     "name": "stdout",
     "output_type": "stream",
     "text": [
      "Number of training examples = 39209\n",
      "Number of testing examples = 12630\n",
      "Image data shape = (32, 32, 3)\n",
      "Number of classes = 43\n",
      "(39209, 32, 32, 3)\n"
     ]
    }
   ],
   "source": [
    "n_train = X_train.shape[0]\n",
    "n_test = X_test.shape[0]\n",
    "image_shape = X_train[2].shape[0:]\n",
    "n_classes = y_train.shape[1]\n",
    "\n",
    "print(\"Number of training examples =\", n_train)\n",
    "print(\"Number of testing examples =\", n_test)\n",
    "print(\"Image data shape =\", image_shape)\n",
    "print(\"Number of classes =\", n_classes)\n",
    "print(X_train.shape)\n",
    "\n",
    "from sklearn.model_selection import train_test_split\n",
    "from sklearn.utils import shuffle\n",
    "X_train, y_train = shuffle(X_train, y_train, random_state=42)\n",
    "X_v, X_t, y_v, y_t = train_test_split(X_test, y_test, test_size=0.5, random_state=42)"
   ]
  },
  {
   "cell_type": "code",
   "execution_count": 3,
   "metadata": {
    "collapsed": false
   },
   "outputs": [],
   "source": [
    "import scipy.ndimage as ndi\n",
    "import itertools\n",
    "def apply_transform(x, transform_matrix):\n",
    "    x = np.rollaxis(x, 2, 0)\n",
    "    final_affine_matrix = transform_matrix[:2, :2]\n",
    "    final_offset = transform_matrix[:2, 2]\n",
    "    channel_images = [ndi.interpolation.affine_transform(x_channel, final_affine_matrix,\n",
    "                      final_offset, order=0, mode='nearest') for x_channel in x]\n",
    "    \n",
    "    x = np.stack(channel_images, axis=0)\n",
    "    x = np.rollaxis(x, 0, 3)\n",
    "    \n",
    "    return x\n",
    "\n",
    "def random_transform(x, rg,height_shift_range,width_shift_range,shear_range,zoom_range):\n",
    "    \n",
    "    h, w = x.shape[0], x.shape[1]\n",
    "    \n",
    "    theta = np.pi / 180 * np.random.uniform(-rg, rg)\n",
    "    rotation_matrix = np.array([[np.cos(theta), -np.sin(theta), 0],\n",
    "                                [np.sin(theta), np.cos(theta), 0],\n",
    "                                [0, 0, 1]])\n",
    "    \n",
    "    tx = h * np.random.uniform(-height_shift_range, height_shift_range) \n",
    "    ty = w * np.random.uniform(-width_shift_range, width_shift_range) \n",
    "    translation_matrix = np.array([[1, 0, tx],[0, 1, ty],[0, 0, 1]])\n",
    "    \n",
    "    shear = np.random.uniform(-shear_range, shear_range) #0.5\n",
    "    shear_matrix = np.array([[1, -np.sin(shear), 0],[0, np.cos(shear), 0],[0, 0, 1]])\n",
    "    \n",
    "    \n",
    "    zx, zy = np.random.uniform(zoom_range[0], zoom_range[1], 2)\n",
    "    zoom_matrix = np.array([[zx, 0, 0],[0, zy, 0],[0, 0, 1]])\n",
    "        \n",
    "        \n",
    "    transform_matrix = np.dot(np.dot(np.dot(rotation_matrix, translation_matrix), shear_matrix), zoom_matrix) \n",
    "    transform_matrix = transform_matrix_offset_center(transform_matrix, h, w)\n",
    "    \n",
    "    x = apply_transform(x, transform_matrix)\n",
    "    return x\n",
    "\n",
    "def transform_matrix_offset_center(matrix, x, y):\n",
    "    o_x = float(x) / 2 + 0.5\n",
    "    o_y = float(y) / 2 + 0.5\n",
    "    offset_matrix = np.array([[1, 0, o_x], [0, 1, o_y], [0, 0, 1]])\n",
    "    reset_matrix = np.array([[1, 0, -o_x], [0, 1, -o_y], [0, 0, 1]])\n",
    "    transform_matrix = np.dot(np.dot(offset_matrix, matrix), reset_matrix)\n",
    "    return transform_matrix\n",
    "\n",
    "def trans(X): \n",
    "    for element in itertools.cycle(X):\n",
    "        yield random_transform(element, rg=0.2,height_shift_range=0.1,width_shift_range=0.1,shear_range=0.5,zoom_range=(0.9,1.1))\n",
    "\n",
    "def forward(X):\n",
    "    for element in itertools.cycle(X):\n",
    "        yield element\n",
    "        \n",
    "Xtrain_iterator = trans(X_train)\n",
    "ytrain_iterator = forward(y_train)\n",
    "\n",
    "\n",
    "\n",
    "Xv_iterator = forward(X_v)\n",
    "Xt_iterator = forward(X_t)\n",
    "yv_iterator = forward(y_v)\n",
    "yt_iterator = forward(y_t)\n",
    "\n"
   ]
  },
  {
   "cell_type": "code",
   "execution_count": null,
   "metadata": {
    "collapsed": false
   },
   "outputs": [],
   "source": []
  },
  {
   "cell_type": "code",
   "execution_count": null,
   "metadata": {
    "collapsed": false
   },
   "outputs": [],
   "source": []
  },
  {
   "cell_type": "markdown",
   "metadata": {},
   "source": [
    "----\n",
    "\n",
    "## Step 2: Design and Test a Model Architecture\n",
    "\n",
    "Design and implement a deep learning model that learns to recognize traffic signs. Train and test your model on the [German Traffic Sign Dataset](http://benchmark.ini.rub.de/?section=gtsrb&subsection=dataset).\n",
    "\n",
    "There are various aspects to consider when thinking about this problem:\n",
    "\n",
    "- Your model can be derived from a deep feedforward net or a deep convolutional network.\n",
    "- Play around preprocessing techniques (normalization, rgb to grayscale, etc)\n",
    "- Number of examples per label (some have more than others).\n",
    "- Generate fake data.\n",
    "\n",
    "Here is an example of a [published baseline model on this problem](http://yann.lecun.com/exdb/publis/pdf/sermanet-ijcnn-11.pdf). It's not required to be familiar with the approach used in the paper but, it's good practice to try to read papers like these."
   ]
  },
  {
   "cell_type": "code",
   "execution_count": null,
   "metadata": {
    "collapsed": true
   },
   "outputs": [],
   "source": []
  },
  {
   "cell_type": "markdown",
   "metadata": {},
   "source": [
    "### Implementation\n",
    "\n",
    "Use the code cell (or multiple code cells, if necessary) to implement the first step of your project. Once you have completed your implementation and are satisfied with the results, be sure to thoroughly answer the questions that follow."
   ]
  },
  {
   "cell_type": "code",
   "execution_count": null,
   "metadata": {
    "collapsed": false
   },
   "outputs": [],
   "source": []
  },
  {
   "cell_type": "code",
   "execution_count": null,
   "metadata": {
    "collapsed": false
   },
   "outputs": [],
   "source": []
  },
  {
   "cell_type": "markdown",
   "metadata": {},
   "source": [
    "### Question 1 \n",
    "\n",
    "_Describe the techniques used to preprocess the data._"
   ]
  },
  {
   "cell_type": "markdown",
   "metadata": {},
   "source": [
    "**Answer:**\n",
    "\n",
    "There was not so much preprocessing to be done at all: \n",
    "\n",
    "- Histogramm equalization to help the network a little bit on the very dark low contrast images\n",
    "- Shuffle the data (well that is obvious)\n",
    "- Lable binarizer to get to the 43 class vector\n",
    "- "
   ]
  },
  {
   "cell_type": "code",
   "execution_count": 4,
   "metadata": {
    "collapsed": true
   },
   "outputs": [],
   "source": [
    "### Generate data additional (if you want to!)\n",
    "### and split the data into training/validation/testing sets here.\n",
    "### Feel free to use as many code cells as needed."
   ]
  },
  {
   "cell_type": "markdown",
   "metadata": {},
   "source": [
    "### Question 2\n",
    "\n",
    "_Describe how you set up the training, validation and testing data for your model. If you generated additional data, why?_"
   ]
  },
  {
   "cell_type": "markdown",
   "metadata": {},
   "source": [
    "**Answer:**"
   ]
  },
  {
   "cell_type": "code",
   "execution_count": 5,
   "metadata": {
    "collapsed": false
   },
   "outputs": [],
   "source": [
    "import tensorflow as tf\n",
    "batch_size = 256\n",
    "patch_size = 3\n",
    "depth = 10\n",
    "num_hidden = 512\n",
    "\n",
    "\n",
    "tf_data = tf.placeholder(tf.float32, shape=(batch_size, 32, 32, 3))\n",
    "tf_labels = tf.placeholder(tf.float32, shape=(batch_size, n_classes))\n",
    "tf_keep = tf.placeholder(tf.float32)\n",
    "\n",
    "\n",
    "# Variables.\n",
    "conv1_weights = tf.Variable(tf.truncated_normal([patch_size, patch_size, 3, 32], stddev=0.1))\n",
    "conv1_biases = tf.Variable(tf.zeros([depth]))\n",
    "\n",
    "\n",
    "conv2_weights = tf.Variable(tf.truncated_normal([patch_size, patch_size, 32, 32], stddev=0.1))\n",
    "conv2_biases = tf.Variable(tf.constant(1.0, shape=[depth]))\n",
    "\n",
    "conv3_weights = tf.Variable(tf.truncated_normal([patch_size, patch_size, 32, 64], stddev=0.1))\n",
    "conv3_biases = tf.Variable(tf.zeros([depth]))\n",
    "\n",
    "\n",
    "conv4_weights = tf.Variable(tf.truncated_normal([patch_size, patch_size, 64, 64], stddev=0.1))\n",
    "conv4_biases = tf.Variable(tf.constant(1.0, shape=[depth]))\n",
    "\n",
    "\n",
    "conv5_weights = tf.Variable(tf.truncated_normal([patch_size, patch_size, 64, 128], stddev=0.1))\n",
    "conv5_biases = tf.Variable(tf.zeros([depth]))\n",
    "\n",
    "conv6_weights = tf.Variable(tf.truncated_normal([patch_size, patch_size, 128, 128], stddev=0.1))\n",
    "conv6_biases = tf.Variable(tf.zeros([depth]))\n",
    "\n",
    "\n",
    "\n",
    "\n",
    "layer3_weights = tf.Variable(tf.truncated_normal([2048, num_hidden], stddev=0.1))\n",
    "layer3_biases = tf.Variable(tf.constant(1.0, shape=[num_hidden]))\n",
    "layer4_weights = tf.Variable(tf.truncated_normal([num_hidden, n_classes], stddev=0.1))\n",
    "layer4_biases = tf.Variable(tf.constant(1.0, shape=[n_classes]))\n",
    "\n",
    "\n",
    "def model(data):\n",
    "    #cov\n",
    "    conv = tf.nn.conv2d(data, conv1_weights, [1, 1, 1, 1], padding='SAME')\n",
    "    conv = tf.nn.relu(conv)\n",
    "    conv = tf.nn.conv2d(conv, conv2_weights, [1, 1, 1, 1], padding='SAME')\n",
    "    conv = tf.nn.max_pool(conv, ksize=[1, 2, 2, 1], strides=[1, 2, 2, 1],padding='SAME')\n",
    "\n",
    "   \n",
    "    \n",
    "    conv = tf.nn.conv2d(conv, conv3_weights, [1, 1, 1, 1], padding='SAME')\n",
    "    conv = tf.nn.relu(conv)\n",
    "    conv = tf.nn.conv2d(conv, conv4_weights, [1, 1, 1, 1], padding='SAME')\n",
    "    conv = tf.nn.max_pool(conv, ksize=[1, 2, 2, 1], strides=[1, 2, 2, 1],padding='SAME')\n",
    "    \n",
    "    conv = tf.nn.conv2d(conv, conv5_weights, [1, 1, 1, 1], padding='SAME')\n",
    "    conv = tf.nn.relu(conv)\n",
    "    conv = tf.nn.conv2d(conv, conv6_weights, [1, 1, 1, 1], padding='SAME')\n",
    "    conv = tf.nn.max_pool(conv, ksize=[1, 2, 2, 1], strides=[1, 2, 2, 1],padding='SAME')\n",
    "    \n",
    "    \n",
    "    \n",
    "\n",
    "    shape = conv.get_shape().as_list()\n",
    "    reshape = tf.reshape(conv, [shape[0], shape[1] * shape[2] * shape[3]])\n",
    "\n",
    "    reshape = tf.nn.dropout(reshape, tf_keep)\n",
    "    \n",
    "    hidden = tf.nn.relu(tf.matmul(reshape, layer3_weights) + layer3_biases)\n",
    "    hidden_drop = tf.nn.dropout(hidden, tf_keep)\n",
    "    return tf.matmul(hidden_drop, layer4_weights) + layer4_biases\n",
    "  \n",
    "\n",
    "logits = model(tf_data)\n",
    "loss = tf.reduce_mean(tf.nn.softmax_cross_entropy_with_logits(logits, tf_labels))\n",
    "prediction = tf.nn.softmax(logits)\n",
    "\n",
    "optimizer = tf.train.AdamOptimizer(0.001).minimize(loss)\n"
   ]
  },
  {
   "cell_type": "markdown",
   "metadata": {},
   "source": [
    "### Question 3\n",
    "\n",
    "_What does your final architecture look like? (Type of model, layers, sizes, connectivity, etc.)  For reference on how to build a deep neural network using TensorFlow, see [Deep Neural Network in TensorFlow\n",
    "](https://classroom.udacity.com/nanodegrees/nd013/parts/fbf77062-5703-404e-b60c-95b78b2f3f9e/modules/6df7ae49-c61c-4bb2-a23e-6527e69209ec/lessons/b516a270-8600-4f93-a0a3-20dfeabe5da6/concepts/83a3a2a2-a9bd-4b7b-95b0-eb924ab14432) from the classroom._\n"
   ]
  },
  {
   "cell_type": "markdown",
   "metadata": {},
   "source": [
    "**Answer:**"
   ]
  },
  {
   "cell_type": "code",
   "execution_count": 6,
   "metadata": {
    "collapsed": false
   },
   "outputs": [],
   "source": [
    "lossgraph = []\n",
    "def accuracy(predictions, labels):\n",
    "    return (100.0 * np.sum(np.argmax(predictions, 1) == np.argmax(labels, 1)) / predictions.shape[0])\n",
    "\n",
    "epoch = 100\n",
    "\n",
    "num_steps = int(np.ceil(n_train / batch_size))\n",
    "\n",
    "\n",
    "num_steps_val = int(np.ceil(n_test / batch_size / 2))\n"
   ]
  },
  {
   "cell_type": "code",
   "execution_count": null,
   "metadata": {
    "collapsed": false
   },
   "outputs": [
    {
     "name": "stderr",
     "output_type": "stream",
     "text": [
      " 77%|███████▋  | 119/154 [01:49<00:32,  1.08it/s]"
     ]
    }
   ],
   "source": [
    "with tf.Session() as session:\n",
    "    tf.initialize_all_variables().run()\n",
    "    for i in range(epoch):\n",
    "        for b_size in tqdm.tqdm(range(num_steps)):\n",
    "            #offset = (step * batch_size) % (y_train.shape[0] - batch_size)\n",
    "            batch_data = np.array([Xtrain_iterator.__next__() for i in range(batch_size)])\n",
    "            batch_labels = np.array([ytrain_iterator.__next__() for i in range(batch_size)])\n",
    "            feed_dict = {tf_data : batch_data, tf_labels : batch_labels, tf_keep:0.5}\n",
    "            _, l, predictions = session.run([optimizer, loss, prediction], feed_dict=feed_dict)\n",
    "        for b_size in tqdm.tqdm(range(num_steps_val)):\n",
    "            #offset = (step * batch_size) % (y_train.shape[0] - batch_size)\n",
    "            batch_data = np.array([Xv_iterator.__next__() for i in range(batch_size)])\n",
    "            batch_labels = np.array([yv_iterator.__next__() for i in range(batch_size)])\n",
    "            feed_dict = {tf_data : batch_data, tf_labels : batch_labels, tf_keep:1.0}\n",
    "            l2, predictions = session.run([loss, prediction], feed_dict=feed_dict)\n",
    "        \n",
    "        print(l, l2)\n",
    "\n",
    "    #print('Test accuracy: %.1f%%' % accuracy(test_prediction.eval(feed_dict={tf_keep:1.0}), y_test_onehot[128*10:128*20]))\n",
    "    \n",
    "    saver = tf.train.Saver()\n",
    "    save_path = saver.save(session, \"./model-new.ckpt\")\n"
   ]
  },
  {
   "cell_type": "code",
   "execution_count": 10,
   "metadata": {
    "collapsed": false
   },
   "outputs": [
    {
     "name": "stdout",
     "output_type": "stream",
     "text": [
      "Model restored.\n",
      "98.4296875\n",
      "0.0930758\n"
     ]
    }
   ],
   "source": [
    "def accuracy(predictions, labels):\n",
    "    return (100.0 * np.sum(np.argmax(predictions, 1) == np.argmax(labels, 1)) / predictions.shape[0])\n",
    "loss_array = []\n",
    "acc_array = []\n",
    "with tf.Session() as sess:\n",
    "    saver = tf.train.Saver()\n",
    "    saver.restore(sess, \"./model-new.ckpt\")\n",
    "    print(\"Model restored.\")\n",
    "    for i in range(100):\n",
    "        batch_data = np.array([Xt_iterator.__next__() for i in range(batch_size)])\n",
    "        batch_labels = np.array([yt_iterator.__next__() for i in range(batch_size)])\n",
    "        feed_dict = {tf_data : batch_data, tf_labels : batch_labels, tf_keep:1.0}\n",
    "        l2, predictions = sess.run([loss, prediction], feed_dict=feed_dict)\n",
    "        loss_array.append(l2)\n",
    "        acc_array.append(accuracy(predictions, batch_labels))\n",
    "\n",
    "print(np.mean(acc_array))\n",
    "print(np.mean(loss_array))"
   ]
  },
  {
   "cell_type": "markdown",
   "metadata": {},
   "source": [
    "### Question 4\n",
    "\n",
    "_How did you train your model? (Type of optimizer, batch size, epochs, hyperparameters, etc.)_\n"
   ]
  },
  {
   "cell_type": "markdown",
   "metadata": {},
   "source": [
    "**Answer:**"
   ]
  },
  {
   "cell_type": "markdown",
   "metadata": {},
   "source": [
    "### Question 5\n",
    "\n",
    "\n",
    "_What approach did you take in coming up with a solution to this problem?_"
   ]
  },
  {
   "cell_type": "markdown",
   "metadata": {},
   "source": [
    "**Answer:**"
   ]
  },
  {
   "cell_type": "markdown",
   "metadata": {},
   "source": [
    "---\n",
    "\n",
    "## Step 3: Test a Model on New Images\n",
    "\n",
    "Take several pictures of traffic signs that you find on the web or around you (at least five), and run them through your classifier on your computer to produce example results. The classifier might not recognize some local signs but it could prove interesting nonetheless.\n",
    "\n",
    "You may find `signnames.csv` useful as it contains mappings from the class id (integer) to the actual sign name."
   ]
  },
  {
   "cell_type": "code",
   "execution_count": 6,
   "metadata": {
    "collapsed": false
   },
   "outputs": [
    {
     "data": {
      "text/html": [
       "<div>\n",
       "<table border=\"1\" class=\"dataframe\">\n",
       "  <thead>\n",
       "    <tr style=\"text-align: right;\">\n",
       "      <th></th>\n",
       "      <th>ClassId</th>\n",
       "      <th>SignName</th>\n",
       "    </tr>\n",
       "  </thead>\n",
       "  <tbody>\n",
       "    <tr>\n",
       "      <th>24</th>\n",
       "      <td>24</td>\n",
       "      <td>Road narrows on the right</td>\n",
       "    </tr>\n",
       "  </tbody>\n",
       "</table>\n",
       "</div>"
      ],
      "text/plain": [
       "    ClassId                   SignName\n",
       "24       24  Road narrows on the right"
      ]
     },
     "execution_count": 6,
     "metadata": {},
     "output_type": "execute_result"
    },
    {
     "data": {
      "image/png": "[encoded data removed]",
      "text/plain": [
       "<matplotlib.figure.Figure at 0x7f8625fa2c50>"
      ]
     },
     "metadata": {},
     "output_type": "display_data"
    }
   ],
   "source": [
    "import pandas as pd\n",
    "df = pd.read_csv(\"signnames.csv\")\n",
    "\n",
    "Xtrain_iterator = trans(X_train)\n",
    "ytrain_iterator = forward(y_train)\n",
    "for i in range(21000):\n",
    "#df = pd.read_csv(\"signnames.csv\")\n",
    "#imshow(Xtrain_iterator.__next__())\n",
    "    Xtrain_iterator.__next__()\n",
    "    i= np.argmax(ytrain_iterator.__next__())\n",
    "    df[df.ClassId == i]\n",
    "imshow(Xtrain_iterator.__next__())\n",
    "i= np.argmax(ytrain_iterator.__next__())\n",
    "df[df.ClassId == i]"
   ]
  },
  {
   "cell_type": "markdown",
   "metadata": {},
   "source": [
    "### Implementation\n",
    "\n",
    "Use the code cell (or multiple code cells, if necessary) to implement the first step of your project. Once you have completed your implementation and are satisfied with the results, be sure to thoroughly answer the questions that follow."
   ]
  },
  {
   "cell_type": "code",
   "execution_count": null,
   "metadata": {
    "collapsed": true
   },
   "outputs": [],
   "source": [
    "### Load the images and plot them here.\n",
    "### Feel free to use as many code cells as needed."
   ]
  },
  {
   "cell_type": "markdown",
   "metadata": {},
   "source": [
    "### Question 6\n",
    "\n",
    "_Choose five candidate images of traffic signs and provide them in the report. Are there any particular qualities of the image(s) that might make classification difficult? It would be helpful to plot the images in the notebook._\n",
    "\n"
   ]
  },
  {
   "cell_type": "markdown",
   "metadata": {},
   "source": [
    "**Answer:**"
   ]
  },
  {
   "cell_type": "code",
   "execution_count": null,
   "metadata": {
    "collapsed": true
   },
   "outputs": [],
   "source": [
    "### Run the predictions here.\n",
    "### Feel free to use as many code cells as needed."
   ]
  },
  {
   "cell_type": "markdown",
   "metadata": {},
   "source": [
    "### Question 7\n",
    "\n",
    "_Is your model able to perform equally well on captured pictures or a live camera stream when compared to testing on the dataset?_\n"
   ]
  },
  {
   "cell_type": "markdown",
   "metadata": {},
   "source": [
    "**Answer:**"
   ]
  },
  {
   "cell_type": "code",
   "execution_count": null,
   "metadata": {
    "collapsed": true
   },
   "outputs": [],
   "source": [
    "### Visualize the softmax probabilities here.\n",
    "### Feel free to use as many code cells as needed."
   ]
  },
  {
   "cell_type": "markdown",
   "metadata": {},
   "source": [
    "### Question 8\n",
    "\n",
    "*Use the model's softmax probabilities to visualize the **certainty** of its predictions, [`tf.nn.top_k`](https://www.tensorflow.org/versions/r0.11/api_docs/python/nn.html#top_k) could prove helpful here. Which predictions is the model certain of? Uncertain? If the model was incorrect in its initial prediction, does the correct prediction appear in the top k? (k should be 5 at most)*\n"
   ]
  },
  {
   "cell_type": "markdown",
   "metadata": {},
   "source": [
    "**Answer:**"
   ]
  },
  {
   "cell_type": "markdown",
   "metadata": {},
   "source": [
    "### Question 9\n",
    "_If necessary, provide documentation for how an interface was built for your model to load and classify newly-acquired images._\n"
   ]
  },
  {
   "cell_type": "markdown",
   "metadata": {},
   "source": [
    "**Answer:**"
   ]
  },
  {
   "cell_type": "markdown",
   "metadata": {},
   "source": [
    "> **Note**: Once you have completed all of the code implementations and successfully answered each question above, you may finalize your work by exporting the iPython Notebook as an HTML document. You can do this by using the menu above and navigating to  \\n\",\n",
    "    \"**File -> Download as -> HTML (.html)**. Include the finished document along with this notebook as your submission."
   ]
  }
 ],
 "metadata": {
  "anaconda-cloud": {},
  "kernelspec": {
   "display_name": "Python 3",
   "language": "python",
   "name": "python3"
  },
  "language_info": {
   "codemirror_mode": {
    "name": "ipython",
    "version": 3
   },
   "file_extension": ".py",
   "mimetype": "text/x-python",
   "name": "python",
   "nbconvert_exporter": "python",
   "pygments_lexer": "ipython3",
   "version": "3.5.2"
  }
 },
 "nbformat": 4,
 "nbformat_minor": 1
}
