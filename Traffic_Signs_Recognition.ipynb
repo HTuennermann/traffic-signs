{
 "cells": [
  {
   "cell_type": "markdown",
   "metadata": {},
   "source": [
    "# Self-Driving Car Engineer Nanodegree\n",
    "\n",
    "## Deep Learning\n",
    "\n",
    "## Project: Build a Traffic Sign Recognition Classifier\n",
    "\n",
    "In this notebook, a template is provided for you to implement your functionality in stages which is required to successfully complete this project. If additional code is required that cannot be included in the notebook, be sure that the Python code is successfully imported and included in your submission, if necessary. Sections that begin with **'Implementation'** in the header indicate where you should begin your implementation for your project. Note that some sections of implementation are optional, and will be marked with **'Optional'** in the header.\n",
    "\n",
    "In addition to implementing code, there will be questions that you must answer which relate to the project and your implementation. Each section where you will answer a question is preceded by a **'Question'** header. Carefully read each question and provide thorough answers in the following text boxes that begin with **'Answer:'**. Your project submission will be evaluated based on your answers to each of the questions and the implementation you provide.\n",
    "\n",
    ">**Note:** Code and Markdown cells can be executed using the **Shift + Enter** keyboard shortcut. In addition, Markdown cells can be edited by typically double-clicking the cell to enter edit mode."
   ]
  },
  {
   "cell_type": "markdown",
   "metadata": {},
   "source": [
    "---\n",
    "\n",
    "## Step 1: Dataset Exploration\n",
    "\n",
    "Visualize the German Traffic Signs Dataset. This is open ended, some suggestions include: plotting traffic signs images, plotting the count of each sign, etc. Be creative!\n",
    "\n",
    "\n",
    "The pickled data is a dictionary with 4 key/value pairs:\n",
    "\n",
    "- features -> the images pixel values, (width, height, channels)\n",
    "- labels -> the label of the traffic sign\n",
    "- sizes -> the original width and height of the image, (width, height)\n",
    "- coords -> coordinates of a bounding box around the sign in the image, (x1, y1, x2, y2)"
   ]
  },
  {
   "cell_type": "code",
   "execution_count": 1,
   "metadata": {
    "collapsed": false
   },
   "outputs": [
    {
     "name": "stdout",
     "output_type": "stream",
     "text": [
      "Populating the interactive namespace from numpy and matplotlib\n"
     ]
    }
   ],
   "source": [
    "# Load pickled data\n",
    "import numpy as np\n",
    "import pickle\n",
    "import tqdm\n",
    "import skimage.transform\n",
    "from sklearn.preprocessing import LabelBinarizer\n",
    "%pylab inline\n",
    "\n",
    "# TODO: fill this in based on where you saved the training and testing data\n",
    "training_file = './../Downloads/train.p'\n",
    "testing_file = './../Downloads/test.p'\n",
    "\n",
    "with open(training_file, mode='rb') as f:\n",
    "    train = pickle.load(f)\n",
    "with open(testing_file, mode='rb') as f:\n",
    "    test = pickle.load(f)\n",
    "    \n",
    "X_train, y_train = train['features'], train['labels']\n",
    "X_test, y_test = test['features'], test['labels']\n",
    "\n",
    "\n",
    "\n",
    "from skimage.exposure import equalize_hist\n",
    "\n",
    "X_test = equalize_hist(X_test) - 0.5\n",
    "X_train = equalize_hist(X_train) - 0.5\n",
    "\n",
    "binarizer = LabelBinarizer().fit(y_train)\n",
    "y_train = binarizer.transform(y_train).astype(np.float32)\n",
    "y_test = binarizer.transform(y_test).astype(np.float32)"
   ]
  },
  {
   "cell_type": "code",
   "execution_count": 2,
   "metadata": {
    "collapsed": false
   },
   "outputs": [
    {
     "name": "stdout",
     "output_type": "stream",
     "text": [
      "Number of training examples = 39209\n",
      "Number of testing examples = 12630\n",
      "Image data shape = (32, 32, 3)\n",
      "Number of classes = 43\n",
      "(39209, 32, 32, 3)\n"
     ]
    }
   ],
   "source": [
    "n_train = X_train.shape[0]\n",
    "n_test = X_test.shape[0]\n",
    "image_shape = X_train[2].shape[0:]\n",
    "n_classes = y_train.shape[1]\n",
    "\n",
    "print(\"Number of training examples =\", n_train)\n",
    "print(\"Number of testing examples =\", n_test)\n",
    "print(\"Image data shape =\", image_shape)\n",
    "print(\"Number of classes =\", n_classes)\n",
    "print(X_train.shape)\n",
    "\n",
    "from sklearn.model_selection import train_test_split\n",
    "from sklearn.utils import shuffle\n",
    "X_train, y_train = shuffle(X_train, y_train, random_state=42)\n",
    "X_v, X_t, y_v, y_t = train_test_split(X_test, y_test, test_size=0.5, random_state=42)"
   ]
  },
  {
   "cell_type": "code",
   "execution_count": 3,
   "metadata": {
    "collapsed": false
   },
   "outputs": [],
   "source": [
    "import scipy.ndimage as ndi\n",
    "import itertools\n",
    "def apply_transform(x, transform_matrix):\n",
    "    x = np.rollaxis(x, 2, 0)\n",
    "    final_affine_matrix = transform_matrix[:2, :2]\n",
    "    final_offset = transform_matrix[:2, 2]\n",
    "    channel_images = [ndi.interpolation.affine_transform(x_channel, final_affine_matrix,\n",
    "                      final_offset, order=0, mode='nearest') for x_channel in x]\n",
    "    \n",
    "    x = np.stack(channel_images, axis=0)\n",
    "    x = np.rollaxis(x, 0, 3)\n",
    "    \n",
    "    return x\n",
    "\n",
    "def random_transform(x, rg,height_shift_range,width_shift_range,shear_range,zoom_range):\n",
    "    \n",
    "    h, w = x.shape[0], x.shape[1]\n",
    "    \n",
    "    theta = np.pi / 180 * np.random.uniform(-rg, rg)\n",
    "    rotation_matrix = np.array([[np.cos(theta), -np.sin(theta), 0],\n",
    "                                [np.sin(theta), np.cos(theta), 0],\n",
    "                                [0, 0, 1]])\n",
    "    \n",
    "    tx = h * np.random.uniform(-height_shift_range, height_shift_range) \n",
    "    ty = w * np.random.uniform(-width_shift_range, width_shift_range) \n",
    "    translation_matrix = np.array([[1, 0, tx],[0, 1, ty],[0, 0, 1]])\n",
    "    \n",
    "    shear = np.random.uniform(-shear_range, shear_range) #0.5\n",
    "    shear_matrix = np.array([[1, -np.sin(shear), 0],[0, np.cos(shear), 0],[0, 0, 1]])\n",
    "    \n",
    "    \n",
    "    zx, zy = np.random.uniform(zoom_range[0], zoom_range[1], 2)\n",
    "    zoom_matrix = np.array([[zx, 0, 0],[0, zy, 0],[0, 0, 1]])\n",
    "        \n",
    "        \n",
    "    transform_matrix = np.dot(np.dot(np.dot(rotation_matrix, translation_matrix), shear_matrix), zoom_matrix) \n",
    "    transform_matrix = transform_matrix_offset_center(transform_matrix, h, w)\n",
    "    \n",
    "    x = apply_transform(x, transform_matrix)\n",
    "    return x\n",
    "\n",
    "def transform_matrix_offset_center(matrix, x, y):\n",
    "    o_x = float(x) / 2 + 0.5\n",
    "    o_y = float(y) / 2 + 0.5\n",
    "    offset_matrix = np.array([[1, 0, o_x], [0, 1, o_y], [0, 0, 1]])\n",
    "    reset_matrix = np.array([[1, 0, -o_x], [0, 1, -o_y], [0, 0, 1]])\n",
    "    transform_matrix = np.dot(np.dot(offset_matrix, matrix), reset_matrix)\n",
    "    return transform_matrix\n",
    "\n",
    "def trans(X): \n",
    "    for element in itertools.cycle(X):\n",
    "        yield random_transform(element, rg=20,height_shift_range=0.05,width_shift_range=0.05,shear_range=0.5,zoom_range=(0.9,1.1))\n",
    "\n",
    "def forward(X):\n",
    "    for element in itertools.cycle(X):\n",
    "        yield element\n",
    "        \n",
    "Xtrain_iterator = trans(X_train)\n",
    "ytrain_iterator = forward(y_train)\n",
    "\n",
    "\n",
    "\n",
    "Xv_iterator = forward(X_v)\n",
    "Xt_iterator = forward(X_t)\n",
    "yv_iterator = forward(y_v)\n",
    "yt_iterator = forward(y_t)\n",
    "\n",
    "\n",
    "\n",
    "#data = [yt_iterator.__next__() for i in range(128)]\n",
    "#print(data)\n"
   ]
  },
  {
   "cell_type": "code",
   "execution_count": 4,
   "metadata": {
    "collapsed": false
   },
   "outputs": [
    {
     "name": "stdout",
     "output_type": "stream",
     "text": [
      "10 loops, best of 3: 45.2 ms per loop\n"
     ]
    }
   ],
   "source": [
    "%%timeit \n",
    "data = [Xtrain_iterator.__next__() for i in range(128)]"
   ]
  },
  {
   "cell_type": "code",
   "execution_count": null,
   "metadata": {
    "collapsed": false
   },
   "outputs": [],
   "source": []
  },
  {
   "cell_type": "markdown",
   "metadata": {},
   "source": [
    "----\n",
    "\n",
    "## Step 2: Design and Test a Model Architecture\n",
    "\n",
    "Design and implement a deep learning model that learns to recognize traffic signs. Train and test your model on the [German Traffic Sign Dataset](http://benchmark.ini.rub.de/?section=gtsrb&subsection=dataset).\n",
    "\n",
    "There are various aspects to consider when thinking about this problem:\n",
    "\n",
    "- Your model can be derived from a deep feedforward net or a deep convolutional network.\n",
    "- Play around preprocessing techniques (normalization, rgb to grayscale, etc)\n",
    "- Number of examples per label (some have more than others).\n",
    "- Generate fake data.\n",
    "\n",
    "Here is an example of a [published baseline model on this problem](http://yann.lecun.com/exdb/publis/pdf/sermanet-ijcnn-11.pdf). It's not required to be familiar with the approach used in the paper but, it's good practice to try to read papers like these."
   ]
  },
  {
   "cell_type": "code",
   "execution_count": null,
   "metadata": {
    "collapsed": true
   },
   "outputs": [],
   "source": []
  },
  {
   "cell_type": "markdown",
   "metadata": {},
   "source": [
    "### Implementation\n",
    "\n",
    "Use the code cell (or multiple code cells, if necessary) to implement the first step of your project. Once you have completed your implementation and are satisfied with the results, be sure to thoroughly answer the questions that follow."
   ]
  },
  {
   "cell_type": "code",
   "execution_count": null,
   "metadata": {
    "collapsed": false
   },
   "outputs": [],
   "source": []
  },
  {
   "cell_type": "code",
   "execution_count": null,
   "metadata": {
    "collapsed": false
   },
   "outputs": [],
   "source": []
  },
  {
   "cell_type": "markdown",
   "metadata": {},
   "source": [
    "### Question 1 \n",
    "\n",
    "_Describe the techniques used to preprocess the data._"
   ]
  },
  {
   "cell_type": "markdown",
   "metadata": {},
   "source": [
    "**Answer:**"
   ]
  },
  {
   "cell_type": "code",
   "execution_count": 5,
   "metadata": {
    "collapsed": true
   },
   "outputs": [],
   "source": [
    "### Generate data additional (if you want to!)\n",
    "### and split the data into training/validation/testing sets here.\n",
    "### Feel free to use as many code cells as needed."
   ]
  },
  {
   "cell_type": "markdown",
   "metadata": {},
   "source": [
    "### Question 2\n",
    "\n",
    "_Describe how you set up the training, validation and testing data for your model. If you generated additional data, why?_"
   ]
  },
  {
   "cell_type": "markdown",
   "metadata": {},
   "source": [
    "**Answer:**"
   ]
  },
  {
   "cell_type": "code",
   "execution_count": 15,
   "metadata": {
    "collapsed": false
   },
   "outputs": [],
   "source": [
    "import tensorflow as tf\n",
    "batch_size = 128\n",
    "patch_size = 5\n",
    "depth = 18\n",
    "num_hidden = 128\n",
    "\n",
    "\n",
    "tf_data = tf.placeholder(tf.float32, shape=(batch_size, 32, 32, 3))\n",
    "tf_labels = tf.placeholder(tf.float32, shape=(batch_size, n_classes))\n",
    "tf_keep = tf.placeholder(tf.float32)\n",
    "\n",
    "\n",
    "# Variables.\n",
    "layer1_weights = tf.Variable(tf.truncated_normal([patch_size, patch_size, 3, depth], stddev=0.1))\n",
    "layer1_biases = tf.Variable(tf.zeros([depth]))\n",
    "\n",
    "\n",
    "layer2_weights = tf.Variable(tf.truncated_normal([patch_size, patch_size, depth, depth], stddev=0.1))\n",
    "layer2_biases = tf.Variable(tf.constant(1.0, shape=[depth]))\n",
    "\n",
    "\n",
    "layer3_weights = tf.Variable(tf.truncated_normal([576, num_hidden], stddev=0.1))\n",
    "layer3_biases = tf.Variable(tf.constant(1.0, shape=[num_hidden]))\n",
    "layer4_weights = tf.Variable(tf.truncated_normal([num_hidden, n_classes], stddev=0.1))\n",
    "layer4_biases = tf.Variable(tf.constant(1.0, shape=[n_classes]))\n",
    "\n",
    "\n",
    "def model(data):\n",
    "    #cov\n",
    "    conv = tf.nn.conv2d(data, layer1_weights, [1, 1, 1, 1], padding='VALID')\n",
    "    conv = tf.nn.max_pool(conv, ksize=[1, 3, 3, 1], strides=[1, 3, 3, 1],padding='SAME')\n",
    "\n",
    "    save = tf.nn.max_pool(conv, ksize=[1, 3, 3, 1], strides=[1, 3, 3, 1],padding='SAME')\n",
    "    \n",
    "    \n",
    "    conv = tf.nn.conv2d(conv, layer2_weights, [1, 1, 1, 1], padding='SAME')\n",
    "    conv = tf.nn.max_pool(conv, ksize=[1, 3, 3, 1], strides=[1, 3, 3, 1],padding='SAME')\n",
    "    \n",
    "\n",
    "    shape = conv.get_shape().as_list()\n",
    "    reshape = tf.reshape(conv, [shape[0], shape[1] * shape[2] * shape[3]])\n",
    "    reshape2 = tf.reshape(save, [shape[0], shape[1] * shape[2] * shape[3]])\n",
    "    reshape = tf.concat(1, [reshape, reshape2])\n",
    "    reshape = tf.nn.dropout(reshape, tf_keep)\n",
    "    \n",
    "    hidden = tf.nn.relu(tf.matmul(reshape, layer3_weights) + layer3_biases)\n",
    "    hidden_drop = tf.nn.dropout(hidden, tf_keep)\n",
    "    return tf.matmul(hidden_drop, layer4_weights) + layer4_biases\n",
    "  \n",
    "\n",
    "logits = model(tf_data)\n",
    "loss = tf.reduce_mean(tf.nn.softmax_cross_entropy_with_logits(logits, tf_labels))\n",
    "prediction = tf.nn.softmax(logits)\n",
    "\n",
    "optimizer = tf.train.AdamOptimizer(0.001).minimize(loss)\n"
   ]
  },
  {
   "cell_type": "markdown",
   "metadata": {},
   "source": [
    "### Question 3\n",
    "\n",
    "_What does your final architecture look like? (Type of model, layers, sizes, connectivity, etc.)  For reference on how to build a deep neural network using TensorFlow, see [Deep Neural Network in TensorFlow\n",
    "](https://classroom.udacity.com/nanodegrees/nd013/parts/fbf77062-5703-404e-b60c-95b78b2f3f9e/modules/6df7ae49-c61c-4bb2-a23e-6527e69209ec/lessons/b516a270-8600-4f93-a0a3-20dfeabe5da6/concepts/83a3a2a2-a9bd-4b7b-95b0-eb924ab14432) from the classroom._\n"
   ]
  },
  {
   "cell_type": "markdown",
   "metadata": {},
   "source": [
    "**Answer:**"
   ]
  },
  {
   "cell_type": "code",
   "execution_count": 20,
   "metadata": {
    "collapsed": false
   },
   "outputs": [
    {
     "ename": "AssertionError",
     "evalue": "",
     "output_type": "error",
     "traceback": [
      "\u001b[0;31m---------------------------------------------------------------------------\u001b[0m",
      "\u001b[0;31mAssertionError\u001b[0m                            Traceback (most recent call last)",
      "\u001b[0;32m<ipython-input-20-0cb46cb96042>\u001b[0m in \u001b[0;36m<module>\u001b[0;34m()\u001b[0m\n\u001b[1;32m     10\u001b[0m \u001b[0;31m#    batches[-1] = (n_train % batch_size)\u001b[0m\u001b[0;34m\u001b[0m\u001b[0;34m\u001b[0m\u001b[0m\n\u001b[1;32m     11\u001b[0m \u001b[0mbatches\u001b[0m \u001b[0;34m=\u001b[0m \u001b[0mbatches\u001b[0m\u001b[0;34m.\u001b[0m\u001b[0mastype\u001b[0m\u001b[0;34m(\u001b[0m\u001b[0mnp\u001b[0m\u001b[0;34m.\u001b[0m\u001b[0mint\u001b[0m\u001b[0;34m)\u001b[0m\u001b[0;34m\u001b[0m\u001b[0m\n\u001b[0;32m---> 12\u001b[0;31m \u001b[0;32massert\u001b[0m\u001b[0;34m(\u001b[0m\u001b[0msum\u001b[0m\u001b[0;34m(\u001b[0m\u001b[0mbatches\u001b[0m\u001b[0;34m)\u001b[0m\u001b[0;34m==\u001b[0m\u001b[0mn_train\u001b[0m\u001b[0;34m)\u001b[0m\u001b[0;34m\u001b[0m\u001b[0m\n\u001b[0m",
      "\u001b[0;31mAssertionError\u001b[0m: "
     ]
    }
   ],
   "source": [
    "lossgraph = []\n",
    "def accuracy(predictions, labels):\n",
    "    return (100.0 * np.sum(np.argmax(predictions, 1) == np.argmax(labels, 1)) / predictions.shape[0])\n",
    "\n",
    "epoch = 5\n",
    "\n",
    "num_steps = int(np.ceil(n_train / batch_size))\n",
    "batches = np.ones(num_steps)*batch_size\n",
    "#if (n_train % batch_size) !=0:\n",
    "#    batches[-1] = (n_train % batch_size)   \n",
    "batches = batches.astype(np.int)\n",
    "assert(sum(batches)==n_train)"
   ]
  },
  {
   "cell_type": "code",
   "execution_count": null,
   "metadata": {
    "collapsed": false
   },
   "outputs": [
    {
     "name": "stdout",
     "output_type": "stream",
     "text": [
      "3.59508\n"
     ]
    }
   ],
   "source": [
    "with tf.Session() as session:\n",
    "    tf.initialize_all_variables().run()\n",
    "    for i in range(epoch):\n",
    "        for b_size in batches:\n",
    "            #offset = (step * batch_size) % (y_train.shape[0] - batch_size)\n",
    "            batch_data = np.array([Xtrain_iterator.__next__() for i in range(b_size)])\n",
    "            batch_labels = np.array([ytrain_iterator.__next__() for i in range(b_size)])\n",
    "            feed_dict = {tf_data : batch_data, tf_labels : batch_labels, tf_keep:1.0}\n",
    "            _, l, predictions = session.run([optimizer, loss, prediction], feed_dict=feed_dict)\n",
    "        \n",
    "        print(l)\n",
    "        #lossgraph.append(session.run([loss,vloss], {tf_train_dataset : batch_data, tf_train_labels : batch_labels, tf_keep:1}))\n",
    "        \n",
    "        #tqdm.tqdm.write('Minibatch loss at step %d: %f' % (i, l))\n",
    "        #tqdm.tqdm.write('Minibatch accuracy: %.1f%%' % accuracy(predictions, batch_labels))\n",
    "        #tqdm.tqdm.write('Validation accuracy: %.1f%%' % accuracy(valid_prediction.eval(feed_dict={tf_keep:1.0}), y_test_onehot[128*0:128*10]))\n",
    "\n",
    "    #print('Test accuracy: %.1f%%' % accuracy(test_prediction.eval(feed_dict={tf_keep:1.0}), y_test_onehot[128*10:128*20]))\n",
    "    \n",
    "    #saver = tf.train.Saver()\n",
    "    #save_path = saver.save(session, \"./model-drop.ckpt\")\n"
   ]
  },
  {
   "cell_type": "code",
   "execution_count": 31,
   "metadata": {
    "collapsed": false
   },
   "outputs": [
    {
     "data": {
      "text/plain": [
       "[<matplotlib.lines.Line2D at 0x7fc0a447f2b0>,\n",
       " <matplotlib.lines.Line2D at 0x7fc0a447f588>]"
      ]
     },
     "execution_count": 31,
     "metadata": {},
     "output_type": "execute_result"
    },
    {
     "data": {
      "image/png": "[encoded data removed]",
      "text/plain": [
       "<matplotlib.figure.Figure at 0x7fc0703bc2b0>"
      ]
     },
     "metadata": {},
     "output_type": "display_data"
    }
   ],
   "source": [
    "plot(lossgraph)"
   ]
  },
  {
   "cell_type": "markdown",
   "metadata": {},
   "source": [
    "### Question 4\n",
    "\n",
    "_How did you train your model? (Type of optimizer, batch size, epochs, hyperparameters, etc.)_\n"
   ]
  },
  {
   "cell_type": "markdown",
   "metadata": {},
   "source": [
    "**Answer:**"
   ]
  },
  {
   "cell_type": "markdown",
   "metadata": {},
   "source": [
    "### Question 5\n",
    "\n",
    "\n",
    "_What approach did you take in coming up with a solution to this problem?_"
   ]
  },
  {
   "cell_type": "markdown",
   "metadata": {},
   "source": [
    "**Answer:**"
   ]
  },
  {
   "cell_type": "markdown",
   "metadata": {},
   "source": [
    "---\n",
    "\n",
    "## Step 3: Test a Model on New Images\n",
    "\n",
    "Take several pictures of traffic signs that you find on the web or around you (at least five), and run them through your classifier on your computer to produce example results. The classifier might not recognize some local signs but it could prove interesting nonetheless.\n",
    "\n",
    "You may find `signnames.csv` useful as it contains mappings from the class id (integer) to the actual sign name."
   ]
  },
  {
   "cell_type": "code",
   "execution_count": 10,
   "metadata": {
    "collapsed": false
   },
   "outputs": [
    {
     "name": "stdout",
     "output_type": "stream",
     "text": [
      "Model restored.\n",
      "Test accuracy: 88.4%\n"
     ]
    }
   ],
   "source": [
    "\n",
    "\n",
    "# Later, launch the model, use the saver to restore variables from disk, and\n",
    "# do some work with the model.\n",
    "with tf.Session(graph=graph) as sess:\n",
    "  # Restore variables from disk.\n",
    "  saver = tf.train.Saver()\n",
    "  saver.restore(sess, \"./model.ckpt\")\n",
    "  print(\"Model restored.\")\n",
    "  print('Test accuracy: %.1f%%' % accuracy(test_prediction.eval(), valid_labels))\n",
    "  # Do some work with the model"
   ]
  },
  {
   "cell_type": "markdown",
   "metadata": {},
   "source": [
    "### Implementation\n",
    "\n",
    "Use the code cell (or multiple code cells, if necessary) to implement the first step of your project. Once you have completed your implementation and are satisfied with the results, be sure to thoroughly answer the questions that follow."
   ]
  },
  {
   "cell_type": "code",
   "execution_count": null,
   "metadata": {
    "collapsed": true
   },
   "outputs": [],
   "source": [
    "### Load the images and plot them here.\n",
    "### Feel free to use as many code cells as needed."
   ]
  },
  {
   "cell_type": "markdown",
   "metadata": {},
   "source": [
    "### Question 6\n",
    "\n",
    "_Choose five candidate images of traffic signs and provide them in the report. Are there any particular qualities of the image(s) that might make classification difficult? It would be helpful to plot the images in the notebook._\n",
    "\n"
   ]
  },
  {
   "cell_type": "markdown",
   "metadata": {},
   "source": [
    "**Answer:**"
   ]
  },
  {
   "cell_type": "code",
   "execution_count": null,
   "metadata": {
    "collapsed": true
   },
   "outputs": [],
   "source": [
    "### Run the predictions here.\n",
    "### Feel free to use as many code cells as needed."
   ]
  },
  {
   "cell_type": "markdown",
   "metadata": {},
   "source": [
    "### Question 7\n",
    "\n",
    "_Is your model able to perform equally well on captured pictures or a live camera stream when compared to testing on the dataset?_\n"
   ]
  },
  {
   "cell_type": "markdown",
   "metadata": {},
   "source": [
    "**Answer:**"
   ]
  },
  {
   "cell_type": "code",
   "execution_count": null,
   "metadata": {
    "collapsed": true
   },
   "outputs": [],
   "source": [
    "### Visualize the softmax probabilities here.\n",
    "### Feel free to use as many code cells as needed."
   ]
  },
  {
   "cell_type": "markdown",
   "metadata": {},
   "source": [
    "### Question 8\n",
    "\n",
    "*Use the model's softmax probabilities to visualize the **certainty** of its predictions, [`tf.nn.top_k`](https://www.tensorflow.org/versions/r0.11/api_docs/python/nn.html#top_k) could prove helpful here. Which predictions is the model certain of? Uncertain? If the model was incorrect in its initial prediction, does the correct prediction appear in the top k? (k should be 5 at most)*\n"
   ]
  },
  {
   "cell_type": "markdown",
   "metadata": {},
   "source": [
    "**Answer:**"
   ]
  },
  {
   "cell_type": "markdown",
   "metadata": {},
   "source": [
    "### Question 9\n",
    "_If necessary, provide documentation for how an interface was built for your model to load and classify newly-acquired images._\n"
   ]
  },
  {
   "cell_type": "markdown",
   "metadata": {},
   "source": [
    "**Answer:**"
   ]
  },
  {
   "cell_type": "markdown",
   "metadata": {},
   "source": [
    "> **Note**: Once you have completed all of the code implementations and successfully answered each question above, you may finalize your work by exporting the iPython Notebook as an HTML document. You can do this by using the menu above and navigating to  \\n\",\n",
    "    \"**File -> Download as -> HTML (.html)**. Include the finished document along with this notebook as your submission."
   ]
  },
  {
   "cell_type": "code",
   "execution_count": null,
   "metadata": {
    "collapsed": false
   },
   "outputs": [],
   "source": [
    "import tensorflow as tf"
   ]
  },
  {
   "cell_type": "code",
   "execution_count": 10,
   "metadata": {
    "collapsed": false
   },
   "outputs": [
    {
     "data": {
      "text/plain": [
       "<function matplotlib.pyplot.step>"
      ]
     },
     "execution_count": 10,
     "metadata": {},
     "output_type": "execute_result"
    }
   ],
   "source": [
    "step"
   ]
  },
  {
   "cell_type": "code",
   "execution_count": 11,
   "metadata": {
    "collapsed": false
   },
   "outputs": [
    {
     "name": "stderr",
     "output_type": "stream",
     "text": [
      " 20%|██        | 2/10 [00:00<00:00,  9.95it/s]"
     ]
    },
    {
     "name": "stdout",
     "output_type": "stream",
     "text": [
      "Done task 0\n"
     ]
    },
    {
     "name": "stderr",
     "output_type": "stream",
     "text": [
      " 50%|█████     | 5/10 [00:00<00:00,  9.94it/s]"
     ]
    },
    {
     "name": "stdout",
     "output_type": "stream",
     "text": [
      "Done task 3\n"
     ]
    },
    {
     "name": "stderr",
     "output_type": "stream",
     "text": [
      " 80%|████████  | 8/10 [00:00<00:00,  9.93it/s]"
     ]
    },
    {
     "name": "stdout",
     "output_type": "stream",
     "text": [
      "Done task 6\n"
     ]
    },
    {
     "name": "stderr",
     "output_type": "stream",
     "text": [
      "100%|██████████| 10/10 [00:01<00:00,  9.86it/s]"
     ]
    },
    {
     "name": "stdout",
     "output_type": "stream",
     "text": [
      "Done task 9\n"
     ]
    },
    {
     "name": "stderr",
     "output_type": "stream",
     "text": [
      "\n"
     ]
    }
   ],
   "source": [
    "from tqdm import tqdm, trange\n",
    "from time import sleep\n",
    "\n",
    "bar = trange(10)\n",
    "for i in bar:\n",
    "    # Print using tqdm class method .write()\n",
    "    sleep(0.1)\n",
    "    if not (i % 3):\n",
    "        tqdm.write(\"Done task %i\" % i)\n",
    "    # Can also use bar.write()"
   ]
  },
  {
   "cell_type": "code",
   "execution_count": 4,
   "metadata": {
    "collapsed": false
   },
   "outputs": [
    {
     "data": {
      "text/plain": [
       "<matplotlib.image.AxesImage at 0x7fdf152ef518>"
      ]
     },
     "execution_count": 4,
     "metadata": {},
     "output_type": "execute_result"
    },
    {
     "data": {
      "image/png": "[encoded data removed]",
      "text/plain": [
       "<matplotlib.figure.Figure at 0x7fdf50033828>"
      ]
     },
     "metadata": {},
     "output_type": "display_data"
    }
   ],
   "source": [
    "\n",
    "from skimage.exposure import equalize_hist\n",
    "imshow((X_train[1,:,:]))#, cmap=\"gray\")"
   ]
  },
  {
   "cell_type": "code",
   "execution_count": 3,
   "metadata": {
    "collapsed": false
   },
   "outputs": [
    {
     "data": {
      "text/plain": [
       "array([[[[ 0.60671479,  0.62109249,  0.63026493],\n",
       "         [ 0.60175065,  0.61160632,  0.62109249],\n",
       "         [ 0.64355531,  0.64785943,  0.64355531],\n",
       "         ..., \n",
       "         [ 0.56440235,  0.60175065,  0.59669214],\n",
       "         [ 0.55286997,  0.57554676,  0.5700221 ],\n",
       "         [ 0.55868959,  0.56440235,  0.55868959]],\n",
       "\n",
       "        [[ 0.63920594,  0.64355531,  0.65208732],\n",
       "         [ 0.63026493,  0.63026493,  0.63920594],\n",
       "         [ 0.66039601,  0.656268  ,  0.64355531],\n",
       "         ..., \n",
       "         [ 0.59669214,  0.61638565,  0.61638565],\n",
       "         [ 0.60671479,  0.61638565,  0.60671479],\n",
       "         [ 0.62571122,  0.62571122,  0.61638565]],\n",
       "\n",
       "        [[ 0.62571122,  0.62571122,  0.63477399],\n",
       "         [ 0.64785943,  0.64355531,  0.65208732],\n",
       "         [ 0.67645394,  0.6644926 ,  0.66853941],\n",
       "         ..., \n",
       "         [ 0.59155478,  0.60175065,  0.59155478],\n",
       "         [ 0.60175065,  0.60671479,  0.5863154 ],\n",
       "         [ 0.62109249,  0.62109249,  0.60175065]],\n",
       "\n",
       "        ..., \n",
       "        [[ 0.78339465,  0.78812982,  0.79954766],\n",
       "         [ 0.76333649,  0.77608876,  0.78812982],\n",
       "         [ 0.73503893,  0.76069442,  0.76853013],\n",
       "         ..., \n",
       "         [ 0.69514089,  0.69514089,  0.67251957],\n",
       "         [ 0.70572021,  0.71254685,  0.68785808],\n",
       "         [ 0.70572021,  0.71918248,  0.70572021]],\n",
       "\n",
       "        [[ 0.67251957,  0.68785808,  0.7022427 ],\n",
       "         [ 0.67645394,  0.69872155,  0.71918248],\n",
       "         [ 0.61638565,  0.66039601,  0.68032362],\n",
       "         ..., \n",
       "         [ 0.72242688,  0.72242688,  0.69872155],\n",
       "         [ 0.73195578,  0.74399886,  0.71588691],\n",
       "         [ 0.69152045,  0.71918248,  0.69872155]],\n",
       "\n",
       "        [[ 0.65208732,  0.64785943,  0.66039601],\n",
       "         [ 0.68412281,  0.70572021,  0.72242688],\n",
       "         [ 0.57554676,  0.63026493,  0.65208732],\n",
       "         ..., \n",
       "         [ 0.71254685,  0.71588691,  0.68785808],\n",
       "         [ 0.7022427 ,  0.71254685,  0.67251957],\n",
       "         [ 0.67251957,  0.69872155,  0.66853941]]],\n",
       "\n",
       "\n",
       "       [[[ 0.57554676,  0.59669214,  0.59669214],\n",
       "         [ 0.60671479,  0.62109249,  0.62109249],\n",
       "         [ 0.60671479,  0.61638565,  0.61638565],\n",
       "         ..., \n",
       "         [ 0.60671479,  0.63026493,  0.62571122],\n",
       "         [ 0.58097959,  0.61160632,  0.61160632],\n",
       "         [ 0.55868959,  0.5700221 ,  0.58097959]],\n",
       "\n",
       "        [[ 0.55286997,  0.57554676,  0.57554676],\n",
       "         [ 0.59669214,  0.61160632,  0.61160632],\n",
       "         [ 0.63920594,  0.63920594,  0.63477399],\n",
       "         ..., \n",
       "         [ 0.656268  ,  0.63920594,  0.66039601],\n",
       "         [ 0.59669214,  0.62109249,  0.63920594],\n",
       "         [ 0.56440235,  0.57554676,  0.59669214]],\n",
       "\n",
       "        [[ 0.54091343,  0.5700221 ,  0.5700221 ],\n",
       "         [ 0.5863154 ,  0.59155478,  0.59155478],\n",
       "         [ 0.63026493,  0.62109249,  0.61638565],\n",
       "         ..., \n",
       "         [ 0.7022427 ,  0.64785943,  0.66853941],\n",
       "         [ 0.5863154 ,  0.60671479,  0.61160632],\n",
       "         [ 0.5700221 ,  0.5863154 ,  0.57554676]],\n",
       "\n",
       "        ..., \n",
       "        [[ 0.84004647,  0.79954766,  0.80599574],\n",
       "         [ 0.8312402 ,  0.79954766,  0.81014717],\n",
       "         [ 0.82198964,  0.79954766,  0.80808805],\n",
       "         ..., \n",
       "         [ 0.61638565,  0.62109249,  0.62571122],\n",
       "         [ 0.63026493,  0.64785943,  0.62571122],\n",
       "         [ 0.68032362,  0.69152045,  0.65208732]],\n",
       "\n",
       "        [[ 0.70572021,  0.70915332,  0.71254685],\n",
       "         [ 0.71254685,  0.70915332,  0.71588691],\n",
       "         [ 0.70915332,  0.69872155,  0.71588691],\n",
       "         ..., \n",
       "         [ 0.63477399,  0.64355531,  0.64355531],\n",
       "         [ 0.68785808,  0.69872155,  0.68412281],\n",
       "         [ 0.72564728,  0.73806719,  0.71254685]],\n",
       "\n",
       "        [[ 0.59155478,  0.60175065,  0.60175065],\n",
       "         [ 0.63477399,  0.63920594,  0.63477399],\n",
       "         [ 0.67251957,  0.67645394,  0.69514089],\n",
       "         ..., \n",
       "         [ 0.62109249,  0.62109249,  0.62571122],\n",
       "         [ 0.71918248,  0.71918248,  0.70915332],\n",
       "         [ 0.71254685,  0.72242688,  0.69514089]]],\n",
       "\n",
       "\n",
       "       [[[ 0.59155478,  0.59155478,  0.59155478],\n",
       "         [ 0.62109249,  0.62109249,  0.62109249],\n",
       "         [ 0.62109249,  0.62109249,  0.60175065],\n",
       "         ..., \n",
       "         [ 0.61638565,  0.63477399,  0.5863154 ],\n",
       "         [ 0.5863154 ,  0.62109249,  0.59155478],\n",
       "         [ 0.54091343,  0.55868959,  0.54693258]],\n",
       "\n",
       "        [[ 0.56440235,  0.5700221 ,  0.5700221 ],\n",
       "         [ 0.61160632,  0.60671479,  0.60175065],\n",
       "         [ 0.67251957,  0.64785943,  0.64355531],\n",
       "         ..., \n",
       "         [ 0.70915332,  0.67251957,  0.64785943],\n",
       "         [ 0.61160632,  0.62571122,  0.61160632],\n",
       "         [ 0.59669214,  0.60175065,  0.59669214]],\n",
       "\n",
       "        [[ 0.55286997,  0.57554676,  0.57554676],\n",
       "         [ 0.60671479,  0.5863154 ,  0.5863154 ],\n",
       "         [ 0.72242688,  0.68032362,  0.68785808],\n",
       "         ..., \n",
       "         [ 0.74399886,  0.656268  ,  0.6644926 ],\n",
       "         [ 0.60175065,  0.60175065,  0.60175065],\n",
       "         [ 0.58097959,  0.58097959,  0.5700221 ]],\n",
       "\n",
       "        ..., \n",
       "        [[ 0.81619187,  0.79507087,  0.75801111],\n",
       "         [ 0.81219367,  0.78812982,  0.74973208],\n",
       "         [ 0.80599574,  0.78098575,  0.75801111],\n",
       "         ..., \n",
       "         [ 0.60175065,  0.60671479,  0.60671479],\n",
       "         [ 0.59669214,  0.61160632,  0.61160632],\n",
       "         [ 0.61160632,  0.62571122,  0.62571122]],\n",
       "\n",
       "        [[ 0.7410642 ,  0.76069442,  0.73806719],\n",
       "         [ 0.74688553,  0.75253067,  0.72564728],\n",
       "         [ 0.74973208,  0.7410642 ,  0.72564728],\n",
       "         ..., \n",
       "         [ 0.59155478,  0.60175065,  0.60175065],\n",
       "         [ 0.63026493,  0.63920594,  0.63477399],\n",
       "         [ 0.68032362,  0.68785808,  0.68032362]],\n",
       "\n",
       "        [[ 0.59669214,  0.62109249,  0.61638565],\n",
       "         [ 0.64355531,  0.656268  ,  0.64355531],\n",
       "         [ 0.68412281,  0.68785808,  0.68412281],\n",
       "         ..., \n",
       "         [ 0.5863154 ,  0.59669214,  0.59155478],\n",
       "         [ 0.63920594,  0.64355531,  0.63026493],\n",
       "         [ 0.69152045,  0.69872155,  0.67645394]]],\n",
       "\n",
       "\n",
       "       ..., \n",
       "       [[[ 0.0163839 ,  0.0163839 ,  0.03172684],\n",
       "         [ 0.03172684,  0.03172684,  0.04124471],\n",
       "         [ 0.04124471,  0.02336331,  0.04124471],\n",
       "         ..., \n",
       "         [ 0.03172684,  0.02336331,  0.04124471],\n",
       "         [ 0.03172684,  0.02336331,  0.04124471],\n",
       "         [ 0.02336331,  0.0163839 ,  0.04124471]],\n",
       "\n",
       "        [[ 0.03172684,  0.02336331,  0.04124471],\n",
       "         [ 0.04124471,  0.03172684,  0.05160396],\n",
       "         [ 0.03172684,  0.02336331,  0.04124471],\n",
       "         ..., \n",
       "         [ 0.03172684,  0.02336331,  0.04124471],\n",
       "         [ 0.03172684,  0.02336331,  0.04124471],\n",
       "         [ 0.03172684,  0.0163839 ,  0.03172684]],\n",
       "\n",
       "        [[ 0.0163839 ,  0.0163839 ,  0.04124471],\n",
       "         [ 0.02336331,  0.03172684,  0.06236788],\n",
       "         [ 0.05160396,  0.05160396,  0.07364267],\n",
       "         ..., \n",
       "         [ 0.03172684,  0.02336331,  0.04124471],\n",
       "         [ 0.03172684,  0.03172684,  0.05160396],\n",
       "         [ 0.02336331,  0.02336331,  0.02336331]],\n",
       "\n",
       "        ..., \n",
       "        [[ 0.0163839 ,  0.01070929,  0.02336331],\n",
       "         [ 0.02336331,  0.01070929,  0.02336331],\n",
       "         [ 0.01070929,  0.01070929,  0.02336331],\n",
       "         ..., \n",
       "         [ 0.01070929,  0.01070929,  0.03172684],\n",
       "         [ 0.0163839 ,  0.0163839 ,  0.03172684],\n",
       "         [ 0.02336331,  0.0163839 ,  0.02336331]],\n",
       "\n",
       "        [[ 0.01070929,  0.01070929,  0.02336331],\n",
       "         [ 0.0163839 ,  0.01070929,  0.02336331],\n",
       "         [ 0.0163839 ,  0.01070929,  0.02336331],\n",
       "         ..., \n",
       "         [ 0.0163839 ,  0.01070929,  0.02336331],\n",
       "         [ 0.02336331,  0.02336331,  0.05160396],\n",
       "         [ 0.02336331,  0.02336331,  0.03172684]],\n",
       "\n",
       "        [[ 0.01070929,  0.01070929,  0.03172684],\n",
       "         [ 0.02336331,  0.01070929,  0.03172684],\n",
       "         [ 0.0163839 ,  0.01070929,  0.02336331],\n",
       "         ..., \n",
       "         [ 0.0163839 ,  0.0163839 ,  0.03172684],\n",
       "         [ 0.02336331,  0.02336331,  0.04124471],\n",
       "         [ 0.02336331,  0.02336331,  0.04124471]]],\n",
       "\n",
       "\n",
       "       [[[ 0.04124471,  0.03172684,  0.06236788],\n",
       "         [ 0.04124471,  0.04124471,  0.07364267],\n",
       "         [ 0.04124471,  0.03172684,  0.04124471],\n",
       "         ..., \n",
       "         [ 0.03172684,  0.02336331,  0.03172684],\n",
       "         [ 0.02336331,  0.0163839 ,  0.02336331],\n",
       "         [ 0.02336331,  0.05160396,  0.12214666]],\n",
       "\n",
       "        [[ 0.05160396,  0.03172684,  0.05160396],\n",
       "         [ 0.04124471,  0.03172684,  0.05160396],\n",
       "         [ 0.05160396,  0.03172684,  0.04124471],\n",
       "         ..., \n",
       "         [ 0.03172684,  0.02336331,  0.05160396],\n",
       "         [ 0.02336331,  0.0163839 ,  0.02336331],\n",
       "         [ 0.0163839 ,  0.0163839 ,  0.05160396]],\n",
       "\n",
       "        [[ 0.03172684,  0.02336331,  0.02336331],\n",
       "         [ 0.03172684,  0.02336331,  0.04124471],\n",
       "         [ 0.04124471,  0.03172684,  0.04124471],\n",
       "         ..., \n",
       "         [ 0.0163839 ,  0.0163839 ,  0.03172684],\n",
       "         [ 0.02336331,  0.0163839 ,  0.03172684],\n",
       "         [ 0.01070929,  0.01070929,  0.03172684]],\n",
       "\n",
       "        ..., \n",
       "        [[ 0.03172684,  0.02336331,  0.04124471],\n",
       "         [ 0.03172684,  0.0163839 ,  0.03172684],\n",
       "         [ 0.01070929,  0.00634036,  0.0163839 ],\n",
       "         ..., \n",
       "         [ 0.04124471,  0.02336331,  0.04124471],\n",
       "         [ 0.0163839 ,  0.01070929,  0.0163839 ],\n",
       "         [ 0.01070929,  0.01070929,  0.0163839 ]],\n",
       "\n",
       "        [[ 0.0163839 ,  0.0163839 ,  0.02336331],\n",
       "         [ 0.02336331,  0.0163839 ,  0.03172684],\n",
       "         [ 0.02336331,  0.0163839 ,  0.03172684],\n",
       "         ..., \n",
       "         [ 0.04124471,  0.03172684,  0.05160396],\n",
       "         [ 0.0163839 ,  0.01070929,  0.0163839 ],\n",
       "         [ 0.0163839 ,  0.01070929,  0.01070929]],\n",
       "\n",
       "        [[ 0.0163839 ,  0.01070929,  0.03172684],\n",
       "         [ 0.0163839 ,  0.01070929,  0.02336331],\n",
       "         [ 0.0163839 ,  0.0163839 ,  0.03172684],\n",
       "         ..., \n",
       "         [ 0.04124471,  0.03172684,  0.05160396],\n",
       "         [ 0.02336331,  0.01070929,  0.02336331],\n",
       "         [ 0.02336331,  0.0163839 ,  0.02336331]]],\n",
       "\n",
       "\n",
       "       [[[ 0.02336331,  0.0163839 ,  0.03172684],\n",
       "         [ 0.02336331,  0.0163839 ,  0.03172684],\n",
       "         [ 0.0163839 ,  0.01070929,  0.0163839 ],\n",
       "         ..., \n",
       "         [ 0.08558531,  0.09764152,  0.1098075 ],\n",
       "         [ 0.147554  ,  0.13472307,  0.12214666],\n",
       "         [ 0.12214666,  0.05160396,  0.06236788]],\n",
       "\n",
       "        [[ 0.03172684,  0.02336331,  0.02336331],\n",
       "         [ 0.03172684,  0.02336331,  0.03172684],\n",
       "         [ 0.02336331,  0.0163839 ,  0.03172684],\n",
       "         ..., \n",
       "         [ 0.36841353,  0.48801918,  0.59669214],\n",
       "         [ 0.64355531,  0.63026493,  0.62571122],\n",
       "         [ 0.39731248,  0.16054204,  0.12214666]],\n",
       "\n",
       "        [[ 0.03172684,  0.03172684,  0.04124471],\n",
       "         [ 0.03172684,  0.03172684,  0.05160396],\n",
       "         [ 0.03172684,  0.02336331,  0.03172684],\n",
       "         ..., \n",
       "         [ 0.63920594,  0.71588691,  0.77608876],\n",
       "         [ 0.67645394,  0.64355531,  0.72242688],\n",
       "         [ 0.45768878,  0.31684734,  0.37827504]],\n",
       "\n",
       "        ..., \n",
       "        [[ 0.02336331,  0.02336331,  0.06236788],\n",
       "         [ 0.03172684,  0.02336331,  0.03172684],\n",
       "         [ 0.0163839 ,  0.01070929,  0.0163839 ],\n",
       "         ..., \n",
       "         [ 0.0163839 ,  0.01070929,  0.02336331],\n",
       "         [ 0.0163839 ,  0.01070929,  0.02336331],\n",
       "         [ 0.01070929,  0.01070929,  0.0163839 ]],\n",
       "\n",
       "        [[ 0.02336331,  0.02336331,  0.04124471],\n",
       "         [ 0.0163839 ,  0.01070929,  0.03172684],\n",
       "         [ 0.01070929,  0.01070929,  0.0163839 ],\n",
       "         ..., \n",
       "         [ 0.0163839 ,  0.01070929,  0.02336331],\n",
       "         [ 0.0163839 ,  0.01070929,  0.02336331],\n",
       "         [ 0.0163839 ,  0.01070929,  0.0163839 ]],\n",
       "\n",
       "        [[ 0.02336331,  0.02336331,  0.03172684],\n",
       "         [ 0.0163839 ,  0.0163839 ,  0.0163839 ],\n",
       "         [ 0.0163839 ,  0.01070929,  0.0163839 ],\n",
       "         ..., \n",
       "         [ 0.01070929,  0.01070929,  0.03172684],\n",
       "         [ 0.0163839 ,  0.0163839 ,  0.03172684],\n",
       "         [ 0.0163839 ,  0.01070929,  0.02336331]]]])"
      ]
     },
     "execution_count": 3,
     "metadata": {},
     "output_type": "execute_result"
    }
   ],
   "source": [
    "X_train"
   ]
  },
  {
   "cell_type": "code",
   "execution_count": 7,
   "metadata": {
    "collapsed": false
   },
   "outputs": [
    {
     "name": "stdout",
     "output_type": "stream",
     "text": [
      "Minibatch loss at step 0: 3.845618\r"
     ]
    }
   ],
   "source": [
    "print('Minibatch loss at step %d: %f' % (i, l), end='\\r')"
   ]
  },
  {
   "cell_type": "code",
   "execution_count": null,
   "metadata": {
    "collapsed": true
   },
   "outputs": [],
   "source": []
  }
 ],
 "metadata": {
  "anaconda-cloud": {},
  "kernelspec": {
   "display_name": "Python 3",
   "language": "python",
   "name": "python3"
  },
  "language_info": {
   "codemirror_mode": {
    "name": "ipython",
    "version": 3
   },
   "file_extension": ".py",
   "mimetype": "text/x-python",
   "name": "python",
   "nbconvert_exporter": "python",
   "pygments_lexer": "ipython3",
   "version": "3.5.2"
  }
 },
 "nbformat": 4,
 "nbformat_minor": 1
}
